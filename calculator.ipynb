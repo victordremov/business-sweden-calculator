{
 "cells": [
  {
   "cell_type": "code",
   "execution_count": 37,
   "id": "5a10666f-d47e-4de6-be9b-05b97173abca",
   "metadata": {},
   "outputs": [],
   "source": [
    "import ipysheet as ips\n",
    "\n",
    "calculator = ips.sheet(key='hours', rows=12, columns=15)\n",
    "months = ips.row(row=1, value=\"Jan\tFeb\tMar\tApr\tMay\tJun\tJul\tAug\tSep\tOct\tNov\tDec\".split('\\t'), column_start = 3)\n",
    "header = ips.cell(row=0, column=2, value=\"Hours planned\")\n",
    "cost_header = ips.cell(row=1, column=1, value=\"Standard cost\")\n",
    "costs = [\n",
    "    (\"TC\", 1750),\n",
    "    (\"SPM\", 1500),\n",
    "    (\"PM\", 1200),\n",
    "    (\"C\", 1050),\n",
    "    (\"A\", 900),\n",
    "    (\"T\", 750),\n",
    "]\n",
    "costs_values = ips.cell_range(value=costs, row_start=2, column_start=0)\n",
    "budget = ips.row(row=9, column_start=0, value=[\"Budget\", 10_000])\n",
    "margin = ips.row(row=10, column_start=0, value=[\"Margin\", \"5%\"])\n"
   ]
  },
  {
   "cell_type": "code",
   "execution_count": 36,
   "id": "3718aca7-d43f-4278-a4c0-495ba726d1e2",
   "metadata": {},
   "outputs": [
    {
     "data": {
      "application/vnd.jupyter.widget-view+json": {
       "model_id": "617e5138069944da879df992aa85d5df",
       "version_major": 2,
       "version_minor": 0
      },
      "text/plain": [
       "Sheet(cells=(Cell(column_end=14, column_start=3, row_end=1, row_start=1, squeeze_column=False, type='text', va…"
      ]
     },
     "execution_count": 36,
     "metadata": {},
     "output_type": "execute_result"
    }
   ],
   "source": [
    "calculator"
   ]
  }
 ],
 "metadata": {
  "kernelspec": {
   "display_name": "Python 3 (ipykernel)",
   "language": "python",
   "name": "python3"
  },
  "language_info": {
   "codemirror_mode": {
    "name": "ipython",
    "version": 3
   },
   "file_extension": ".py",
   "mimetype": "text/x-python",
   "name": "python",
   "nbconvert_exporter": "python",
   "pygments_lexer": "ipython3",
   "version": "3.7.12"
  }
 },
 "nbformat": 4,
 "nbformat_minor": 5
}
